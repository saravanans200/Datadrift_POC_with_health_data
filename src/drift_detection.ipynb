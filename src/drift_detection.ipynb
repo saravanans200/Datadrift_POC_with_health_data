{
 "cells": [
  {
   "cell_type": "code",
   "execution_count": 1,
   "id": "f276bef1-17a2-46ea-9fd8-7387f3afd0da",
   "metadata": {},
   "outputs": [],
   "source": [
    "import pandas as pd\n",
    "import numpy as np\n",
    "\n",
    "from evidently import ColumnMapping\n",
    "\n",
    "from evidently.report import Report\n",
    "from evidently.metrics.base_metric import generate_column_metrics\n",
    "from evidently.metric_preset import DataDriftPreset, TargetDriftPreset, DataQualityPreset, RegressionPreset\n",
    "from evidently.metrics import *\n",
    "\n",
    "from evidently.test_suite import TestSuite\n",
    "from evidently.tests.base_test import generate_column_tests\n",
    "from evidently.test_preset import DataStabilityTestPreset, NoTargetPerformanceTestPreset, RegressionTestPreset\n",
    "from evidently.tests import *\n",
    "\n",
    "import datetime as dt"
   ]
  },
  {
   "cell_type": "code",
   "execution_count": 2,
   "id": "8320f210-4fef-4500-b4f6-b45cdbe86362",
   "metadata": {},
   "outputs": [],
   "source": [
    "import warnings\n",
    "warnings.filterwarnings('ignore')\n",
    "warnings.simplefilter('ignore')"
   ]
  },
  {
   "cell_type": "code",
   "execution_count": 3,
   "id": "82096116-fe5b-4303-938f-4d93f9127618",
   "metadata": {},
   "outputs": [],
   "source": [
    "original_dataset = pd.read_csv(r'C:\\Users\\A7202\\Downloads\\Datadrift_POC_with_health_data\\artifact\\data\\healthcare_dataset.csv')"
   ]
  },
  {
   "cell_type": "code",
   "execution_count": 4,
   "id": "ff33028b-111f-428d-b310-122c0429af55",
   "metadata": {},
   "outputs": [],
   "source": [
    "updated_dataset = pd.read_csv(r'C:\\Users\\A7202\\Downloads\\Datadrift_POC_with_health_data\\artifact\\data\\healthcare_dataset_updated.csv')"
   ]
  },
  {
   "cell_type": "code",
   "execution_count": 5,
   "id": "6f3e01a7-08fb-45ac-99cc-b87162f63ed4",
   "metadata": {},
   "outputs": [],
   "source": [
    "report = Report(metrics=[\n",
    "    DataDriftPreset(), \n",
    "])\n",
    "report.run(reference_data=original_dataset, current_data=updated_dataset)"
   ]
  },
  {
   "cell_type": "code",
   "execution_count": 6,
   "id": "c16cef7d-8a83-42c7-9fe8-dfcd8709d607",
   "metadata": {},
   "outputs": [],
   "source": [
    "report.save_html(r'C:\\Users\\A7202\\Downloads\\Datadrift_POC_with_health_data\\artifact\\result\\drift_result.html')"
   ]
  },
  {
   "cell_type": "code",
   "execution_count": 7,
   "id": "54fc4620-d7a5-4ad0-9a48-933af3f3ef97",
   "metadata": {},
   "outputs": [],
   "source": [
    "tests = TestSuite(tests=[\n",
    "    TestNumberOfColumnsWithMissingValues(),\n",
    "    TestNumberOfRowsWithMissingValues(),\n",
    "    TestNumberOfConstantColumns(),\n",
    "    TestNumberOfDuplicatedRows(),\n",
    "    TestNumberOfDuplicatedColumns(),\n",
    "    TestColumnsType(),\n",
    "    TestNumberOfDriftedColumns(),\n",
    "])\n",
    "\n",
    "tests.run(reference_data=original_dataset, current_data=updated_dataset)"
   ]
  },
  {
   "cell_type": "code",
   "execution_count": 8,
   "id": "727edb25-33b7-4566-a180-5452adf54fa2",
   "metadata": {},
   "outputs": [],
   "source": [
    "tests.save_html(r'C:\\Users\\A7202\\Downloads\\Datadrift_POC_with_health_data\\artifact\\result\\testsuite.html')"
   ]
  },
  {
   "cell_type": "code",
   "execution_count": null,
   "id": "0fb51813-d22b-406b-a730-9434c8e351c0",
   "metadata": {},
   "outputs": [],
   "source": []
  },
  {
   "cell_type": "code",
   "execution_count": null,
   "id": "36e04c3f-98ae-49a7-bb0f-2992bc2e6bc0",
   "metadata": {},
   "outputs": [],
   "source": []
  },
  {
   "cell_type": "code",
   "execution_count": null,
   "id": "2ab3e33d-4280-4e16-a98b-87101772750f",
   "metadata": {},
   "outputs": [],
   "source": []
  },
  {
   "cell_type": "code",
   "execution_count": null,
   "id": "ba6bde3b-12c3-46d7-80f8-2c3455a3dce3",
   "metadata": {},
   "outputs": [],
   "source": []
  },
  {
   "cell_type": "code",
   "execution_count": null,
   "id": "21727ca6-ecf8-43f4-aff6-2d6d531b0062",
   "metadata": {},
   "outputs": [],
   "source": []
  }
 ],
 "metadata": {
  "kernelspec": {
   "display_name": "Python 3 (ipykernel)",
   "language": "python",
   "name": "python3"
  },
  "language_info": {
   "codemirror_mode": {
    "name": "ipython",
    "version": 3
   },
   "file_extension": ".py",
   "mimetype": "text/x-python",
   "name": "python",
   "nbconvert_exporter": "python",
   "pygments_lexer": "ipython3",
   "version": "3.11.5"
  }
 },
 "nbformat": 4,
 "nbformat_minor": 5
}
